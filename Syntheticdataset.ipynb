{
  "nbformat": 4,
  "nbformat_minor": 0,
  "metadata": {
    "colab": {
      "provenance": [],
      "authorship_tag": "ABX9TyOey7n2O97zvYVq0KWH9lhG",
      "include_colab_link": true
    },
    "kernelspec": {
      "name": "python3",
      "display_name": "Python 3"
    },
    "language_info": {
      "name": "python"
    }
  },
  "cells": [
    {
      "cell_type": "markdown",
      "metadata": {
        "id": "view-in-github",
        "colab_type": "text"
      },
      "source": [
        "<a href=\"https://colab.research.google.com/github/harinijs03/2023103549_SDC_assignment/blob/main/Syntheticdataset.ipynb\" target=\"_parent\"><img src=\"https://colab.research.google.com/assets/colab-badge.svg\" alt=\"Open In Colab\"/></a>"
      ]
    },
    {
      "cell_type": "code",
      "execution_count": 1,
      "metadata": {
        "colab": {
          "base_uri": "https://localhost:8080/"
        },
        "id": "Ws8gkBWacLPx",
        "outputId": "e4d56070-c1e7-47e8-d543-45f08b3eb96c"
      },
      "outputs": [
        {
          "output_type": "stream",
          "name": "stderr",
          "text": [
            "/usr/local/lib/python3.11/dist-packages/sklearn/linear_model/_logistic.py:1247: FutureWarning: 'multi_class' was deprecated in version 1.5 and will be removed in 1.7. From then on, it will always use 'multinomial'. Leave it to its default value to avoid this warning.\n",
            "  warnings.warn(\n"
          ]
        },
        {
          "output_type": "stream",
          "name": "stdout",
          "text": [
            "Sample data:\n",
            "          Area  Bedrooms  Bathrooms  Age  LocationScore  PriceCategory\n",
            "0  2248.357077         4          3   32       0.143814              1\n",
            "1  1930.867849         1          3   49       7.643534              1\n",
            "2  2323.844269         3          1   37       6.237431              1\n",
            "3  2761.514928         5          3   26       7.623026              2\n",
            "4  1882.923313         3          3   33       0.389380              1\n",
            "\n",
            "Classification Report:\n",
            "\n",
            "              precision    recall  f1-score   support\n",
            "\n",
            "         Low       1.00      0.50      0.67        12\n",
            "      Medium       0.92      1.00      0.96       145\n",
            "        High       1.00      0.84      0.91        43\n",
            "\n",
            "    accuracy                           0.94       200\n",
            "   macro avg       0.97      0.78      0.85       200\n",
            "weighted avg       0.94      0.94      0.93       200\n",
            "\n",
            "\n",
            "--- Predict Price Category ---\n",
            "Enter area (in sq ft): 1400\n",
            "Enter number of bedrooms: 5\n",
            "Enter number of bathrooms: 2\n",
            "Enter age of house (in years): 5\n",
            "Enter location score (0-10): 5\n",
            "\n",
            "Predicted Price Category: Medium\n"
          ]
        },
        {
          "output_type": "stream",
          "name": "stderr",
          "text": [
            "/usr/local/lib/python3.11/dist-packages/sklearn/utils/validation.py:2739: UserWarning: X does not have valid feature names, but StandardScaler was fitted with feature names\n",
            "  warnings.warn(\n"
          ]
        }
      ],
      "source": [
        "# Housing Price Classification using Logistic Regression (with synthetic dataset)\n",
        "\n",
        "# Step 1: Import libraries\n",
        "import numpy as np\n",
        "import pandas as pd\n",
        "from sklearn.model_selection import train_test_split\n",
        "from sklearn.linear_model import LogisticRegression\n",
        "from sklearn.preprocessing import StandardScaler\n",
        "from sklearn.metrics import classification_report\n",
        "import matplotlib.pyplot as plt\n",
        "\n",
        "# Step 2: Generate synthetic dataset\n",
        "np.random.seed(42)\n",
        "n_samples = 1000\n",
        "\n",
        "area = np.random.normal(2000, 500, n_samples)\n",
        "bedrooms = np.random.randint(1, 6, n_samples)\n",
        "bathrooms = np.random.randint(1, 4, n_samples)\n",
        "age = np.random.randint(0, 50, n_samples)\n",
        "location_score = np.random.uniform(0, 10, n_samples)\n",
        "price = (area * 150) + (bedrooms * 10000) + (bathrooms * 5000) - (age * 200) + (location_score * 10000)\n",
        "price = price + np.random.normal(0, 10000, n_samples)\n",
        "\n",
        "# Categorize price: 0 = Low, 1 = Medium, 2 = High\n",
        "bins = [0, 250000, 450000, np.inf]\n",
        "labels = [0, 1, 2]\n",
        "price_category = pd.cut(price, bins=bins, labels=labels)\n",
        "\n",
        "# Create DataFrame\n",
        "df = pd.DataFrame({\n",
        "    'Area': area,\n",
        "    'Bedrooms': bedrooms,\n",
        "    'Bathrooms': bathrooms,\n",
        "    'Age': age,\n",
        "    'LocationScore': location_score,\n",
        "    'PriceCategory': price_category.astype(int)\n",
        "})\n",
        "\n",
        "print(\"Sample data:\")\n",
        "print(df.head())\n",
        "\n",
        "# Step 3: Prepare data for training\n",
        "X = df.drop(columns=['PriceCategory'])\n",
        "y = df['PriceCategory']\n",
        "\n",
        "scaler = StandardScaler()\n",
        "X_scaled = scaler.fit_transform(X)\n",
        "\n",
        "# Step 4: Split data and train model\n",
        "X_train, X_test, y_train, y_test = train_test_split(X_scaled, y, test_size=0.2, random_state=42)\n",
        "\n",
        "model = LogisticRegression(multi_class='multinomial', solver='lbfgs', max_iter=1000)\n",
        "model.fit(X_train, y_train)\n",
        "\n",
        "# Step 5: Evaluate model\n",
        "y_pred = model.predict(X_test)\n",
        "print(\"\\nClassification Report:\\n\")\n",
        "print(classification_report(y_test, y_pred, target_names=[\"Low\", \"Medium\", \"High\"]))\n",
        "\n",
        "# Step 6: Prediction prompt\n",
        "print(\"\\n--- Predict Price Category ---\")\n",
        "try:\n",
        "    area = float(input(\"Enter area (in sq ft): \"))\n",
        "    bedrooms = int(input(\"Enter number of bedrooms: \"))\n",
        "    bathrooms = int(input(\"Enter number of bathrooms: \"))\n",
        "    age = int(input(\"Enter age of house (in years): \"))\n",
        "    location_score = float(input(\"Enter location score (0-10): \"))\n",
        "\n",
        "    input_features = np.array([[area, bedrooms, bathrooms, age, location_score]])\n",
        "    input_scaled = scaler.transform(input_features)\n",
        "    prediction = model.predict(input_scaled)[0]\n",
        "\n",
        "    category_map = {0: \"Low\", 1: \"Medium\", 2: \"High\"}\n",
        "    print(f\"\\nPredicted Price Category: {category_map[prediction]}\")\n",
        "\n",
        "except Exception as e:\n",
        "    print(f\"Error in input: {e}\")\n",
        "\n",
        ""
      ]
    }
  ]
}