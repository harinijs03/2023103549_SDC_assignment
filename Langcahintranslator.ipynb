{
  "nbformat": 4,
  "nbformat_minor": 0,
  "metadata": {
    "colab": {
      "provenance": [],
      "authorship_tag": "ABX9TyN22gXC2/2LCwQ+A8i3FLX8",
      "include_colab_link": true
    },
    "kernelspec": {
      "name": "python3",
      "display_name": "Python 3"
    },
    "language_info": {
      "name": "python"
    }
  },
  "cells": [
    {
      "cell_type": "markdown",
      "metadata": {
        "id": "view-in-github",
        "colab_type": "text"
      },
      "source": [
        "<a href=\"https://colab.research.google.com/github/harinijs03/2023103549_SDC_assignment/blob/main/Langcahintranslator.ipynb\" target=\"_parent\"><img src=\"https://colab.research.google.com/assets/colab-badge.svg\" alt=\"Open In Colab\"/></a>"
      ]
    },
    {
      "cell_type": "code",
      "execution_count": 3,
      "metadata": {
        "colab": {
          "base_uri": "https://localhost:8080/",
          "height": 89
        },
        "id": "mfRMyl6Yf_pV",
        "outputId": "c3e4c779-c5a8-426e-c3dd-3361b82f4cd9"
      },
      "outputs": [
        {
          "output_type": "stream",
          "name": "stdout",
          "text": [
            "🔤 Original: Good morning! How are you today?\n",
            "🌐 Translated (French): ❌ Error: 400 POST https://generativelanguage.googleapis.com/v1beta/models/gemini-1.5-flash:generateContent?%24alt=json%3Benum-encoding%3Dint: API key not valid. Please pass a valid API key.\n"
          ]
        },
        {
          "output_type": "stream",
          "name": "stderr",
          "text": [
            "WARNING:tornado.access:400 POST /v1beta/models/gemini-1.5-flash:generateContent?%24alt=json%3Benum-encoding%3Dint (127.0.0.1) 1999.76ms\n"
          ]
        }
      ],
      "source": [
        "# Step 1: Install dependencies (Colab or Jupyter)\n",
        "!pip install -q langchain google-generativeai\n",
        "\n",
        "# Step 2: Import required libraries\n",
        "import os\n",
        "import google.generativeai as genai\n",
        "from typing import List, Optional, ClassVar\n",
        "from langchain_core.language_models import LLM\n",
        "from langchain_core.prompts import PromptTemplate\n",
        "\n",
        "# Step 3: Set up Gemini API key (you said hardcoding is fine)\n",
        "os.environ[\"GOOGLE_API_KEY\"] = \"YOUR_API_KEY\" # Replace with your API key\n",
        "genai.configure(api_key=os.environ[\"GOOGLE_API_KEY\"])\n",
        "\n",
        "# Step 4: Custom Gemini 1.5 Flash wrapper for LangChain\n",
        "class GeminiFlashLLM(LLM):\n",
        "    model_name: ClassVar[str] = \"gemini-1.5-flash\"\n",
        "    temperature: ClassVar[float] = 0.3\n",
        "\n",
        "    def _call(self, prompt: str, stop: Optional[List[str]] = None) -> str:\n",
        "        try:\n",
        "            model = genai.GenerativeModel(self.model_name)\n",
        "            response = model.generate_content(prompt)\n",
        "            return response.text.strip()\n",
        "        except Exception as e:\n",
        "            return f\"❌ Error: {str(e)}\"\n",
        "\n",
        "    @property\n",
        "    def _llm_type(self) -> str:\n",
        "        return \"gemini-1.5-flash\"\n",
        "\n",
        "# Step 5: Define the prompt template for translation\n",
        "template = \"\"\"\n",
        "You are a professional translator. Translate the following text to {target_language}.\n",
        "\n",
        "Text: {input_text}\n",
        "\n",
        "Translation:\n",
        "\"\"\".strip()\n",
        "\n",
        "prompt = PromptTemplate.from_template(template)\n",
        "\n",
        "# Step 6: Create the chain\n",
        "llm = GeminiFlashLLM()\n",
        "translation_chain = prompt | llm\n",
        "\n",
        "# Step 7: Define a function to translate text\n",
        "def translate_text(input_text, target_language):\n",
        "    result = translation_chain.invoke({\n",
        "        \"input_text\": input_text,\n",
        "        \"target_language\": target_language\n",
        "    })\n",
        "    return result\n",
        "\n",
        "# Step 8: Example translation\n",
        "text_to_translate = \"Good morning! How are you today?\"\n",
        "target_lang = \"French\"\n",
        "\n",
        "translation = translate_text(text_to_translate, target_lang)\n",
        "print(f\"🔤 Original: {text_to_translate}\")\n",
        "print(f\"🌐 Translated ({target_lang}): {translation}\")\n"
      ]
    }
  ]
}